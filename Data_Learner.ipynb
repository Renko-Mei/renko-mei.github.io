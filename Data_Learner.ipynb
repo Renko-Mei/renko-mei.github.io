{
 "cells": [
  {
   "cell_type": "code",
   "execution_count": 1,
   "metadata": {
    "collapsed": true
   },
   "outputs": [],
   "source": [
    "import numpy as np\n",
    "import pandas as pd\n",
    "from sklearn.model_selection import train_test_split\n",
    "from sklearn.pipeline import make_pipeline\n",
    "from sklearn.naive_bayes import GaussianNB\n",
    "from sklearn.metrics import accuracy_score\n",
    "from sklearn.neighbors import KNeighborsClassifier\n",
    "from sklearn.svm import SVC"
   ]
  },
  {
   "cell_type": "code",
   "execution_count": 2,
   "metadata": {},
   "outputs": [
    {
     "data": {
      "text/html": [
       "<div>\n",
       "<style>\n",
       "    .dataframe thead tr:only-child th {\n",
       "        text-align: right;\n",
       "    }\n",
       "\n",
       "    .dataframe thead th {\n",
       "        text-align: left;\n",
       "    }\n",
       "\n",
       "    .dataframe tbody tr th {\n",
       "        vertical-align: top;\n",
       "    }\n",
       "</style>\n",
       "<table border=\"1\" class=\"dataframe\">\n",
       "  <thead>\n",
       "    <tr style=\"text-align: right;\">\n",
       "      <th></th>\n",
       "      <th>Year</th>\n",
       "      <th>Month</th>\n",
       "      <th>Day</th>\n",
       "      <th>Hour</th>\n",
       "      <th>Visibility</th>\n",
       "      <th>Pricipitation</th>\n",
       "      <th>Image</th>\n",
       "      <th>Brightness</th>\n",
       "    </tr>\n",
       "  </thead>\n",
       "  <tbody>\n",
       "    <tr>\n",
       "      <th>316</th>\n",
       "      <td>2016</td>\n",
       "      <td>6</td>\n",
       "      <td>5</td>\n",
       "      <td>7</td>\n",
       "      <td>Clear</td>\n",
       "      <td>None</td>\n",
       "      <td>[[[89, 121, 180], [89, 121, 180], [89, 121, 18...</td>\n",
       "      <td>128.610874</td>\n",
       "    </tr>\n",
       "    <tr>\n",
       "      <th>317</th>\n",
       "      <td>2016</td>\n",
       "      <td>6</td>\n",
       "      <td>5</td>\n",
       "      <td>10</td>\n",
       "      <td>Cloudy</td>\n",
       "      <td>None</td>\n",
       "      <td>[[[125, 150, 191], [122, 147, 188], [121, 146,...</td>\n",
       "      <td>144.723362</td>\n",
       "    </tr>\n",
       "    <tr>\n",
       "      <th>318</th>\n",
       "      <td>2016</td>\n",
       "      <td>6</td>\n",
       "      <td>5</td>\n",
       "      <td>13</td>\n",
       "      <td>Cloudy</td>\n",
       "      <td>None</td>\n",
       "      <td>[[[131, 160, 200], [132, 161, 201], [134, 163,...</td>\n",
       "      <td>159.823296</td>\n",
       "    </tr>\n",
       "    <tr>\n",
       "      <th>319</th>\n",
       "      <td>2016</td>\n",
       "      <td>6</td>\n",
       "      <td>5</td>\n",
       "      <td>16</td>\n",
       "      <td>Cloudy</td>\n",
       "      <td>None</td>\n",
       "      <td>[[[183, 210, 239], [183, 210, 239], [184, 211,...</td>\n",
       "      <td>170.705356</td>\n",
       "    </tr>\n",
       "    <tr>\n",
       "      <th>320</th>\n",
       "      <td>2016</td>\n",
       "      <td>6</td>\n",
       "      <td>5</td>\n",
       "      <td>19</td>\n",
       "      <td>Cloudy</td>\n",
       "      <td>None</td>\n",
       "      <td>[[[140, 148, 151], [141, 149, 152], [143, 151,...</td>\n",
       "      <td>120.163934</td>\n",
       "    </tr>\n",
       "  </tbody>\n",
       "</table>\n",
       "</div>"
      ],
      "text/plain": [
       "     Year  Month  Day  Hour Visibility Pricipitation  \\\n",
       "316  2016      6    5     7      Clear          None   \n",
       "317  2016      6    5    10     Cloudy          None   \n",
       "318  2016      6    5    13     Cloudy          None   \n",
       "319  2016      6    5    16     Cloudy          None   \n",
       "320  2016      6    5    19     Cloudy          None   \n",
       "\n",
       "                                                 Image  Brightness  \n",
       "316  [[[89, 121, 180], [89, 121, 180], [89, 121, 18...  128.610874  \n",
       "317  [[[125, 150, 191], [122, 147, 188], [121, 146,...  144.723362  \n",
       "318  [[[131, 160, 200], [132, 161, 201], [134, 163,...  159.823296  \n",
       "319  [[[183, 210, 239], [183, 210, 239], [184, 211,...  170.705356  \n",
       "320  [[[140, 148, 151], [141, 149, 152], [143, 151,...  120.163934  "
      ]
     },
     "execution_count": 2,
     "metadata": {},
     "output_type": "execute_result"
    }
   ],
   "source": [
    "data = pd.read_pickle('Complete_Data.pkl')\n",
    "data.head(5)"
   ]
  },
  {
   "cell_type": "code",
   "execution_count": 3,
   "metadata": {
    "collapsed": true
   },
   "outputs": [],
   "source": [
    "x = data['Brightness'].values.reshape(-1, 1)\n",
    "y = data['Visibility']\n",
    "x_train, x_test, y_train, y_test = train_test_split(x, y)"
   ]
  },
  {
   "cell_type": "code",
   "execution_count": 25,
   "metadata": {
    "collapsed": true
   },
   "outputs": [],
   "source": [
    "knn_model = KNeighborsClassifier(n_neighbors=15)\n",
    "svc_model = SVC(kernel='linear', decision_function_shape='ovr')\n",
    "bayes_model = GaussianNB()"
   ]
  },
  {
   "cell_type": "code",
   "execution_count": 26,
   "metadata": {},
   "outputs": [
    {
     "name": "stdout",
     "output_type": "stream",
     "text": [
      "KNN Model: 0.649122807018\n",
      "SVC Model: 0.663742690058\n",
      "Bayes Model: 0.65350877193\n"
     ]
    }
   ],
   "source": [
    "knn_model.fit(x_train, y_train)\n",
    "svc_model.fit(x_train, y_train)\n",
    "bayes_model.fit(x_train, y_train)\n",
    "print(\"KNN Model: \" + str(knn_model.score(x_test, y_test)) + \n",
    "     \"\\nSVC Model: \" + str(svc_model.score(x_test, y_test)) + \n",
    "     \"\\nBayes Model: \" + str(bayes_model.score(x_test, y_test)))"
   ]
  },
  {
   "cell_type": "code",
   "execution_count": 22,
   "metadata": {
    "collapsed": true
   },
   "outputs": [],
   "source": [
    "x_pric = data['Image']\\\n",
    "    .apply(lambda x: np.mean(x, axis=0))\\\n",
    "    .apply(lambda x: np.mean(x, axis=0))\\\n",
    "    .apply(lambda x: np.mean(x, axis=0))\\\n",
    "    .values\\\n",
    "    .reshape(-1, 1)\n",
    "y_pric = data['Pricipitation']"
   ]
  },
  {
   "cell_type": "code",
   "execution_count": 23,
   "metadata": {
    "collapsed": true
   },
   "outputs": [],
   "source": [
    "from sklearn.neural_network import MLPClassifier\n",
    "from sklearn.preprocessing import StandardScaler\n",
    "model = make_pipeline(StandardScaler(),\n",
    "                      MLPClassifier(solver='lbfgs',\n",
    "                                    activation = 'logistic',\n",
    "                                    learning_rate = 'adaptive',\n",
    "                                    alpha = 2,\n",
    "                                    random_state=5)\n",
    "                     )"
   ]
  },
  {
   "cell_type": "code",
   "execution_count": 24,
   "metadata": {},
   "outputs": [
    {
     "name": "stdout",
     "output_type": "stream",
     "text": [
      "Pricipitation Model Score: 0.676900584795\n"
     ]
    }
   ],
   "source": [
    "x_pric_train, x_pric_test, y_pric_train, y_pric_test = train_test_split(x_pric, y_pric)\n",
    "model.fit(x_pric_train, y_pric_train)\n",
    "print('Pricipitation Model Score:', model.score(x_pric_test, y_pric_test))"
   ]
  },
  {
   "cell_type": "code",
   "execution_count": null,
   "metadata": {
    "collapsed": true
   },
   "outputs": [],
   "source": []
  }
 ],
 "metadata": {
  "kernelspec": {
   "display_name": "Python 3",
   "language": "python",
   "name": "python3"
  },
  "language_info": {
   "codemirror_mode": {
    "name": "ipython",
    "version": 3
   },
   "file_extension": ".py",
   "mimetype": "text/x-python",
   "name": "python",
   "nbconvert_exporter": "python",
   "pygments_lexer": "ipython3",
   "version": "3.6.3"
  }
 },
 "nbformat": 4,
 "nbformat_minor": 2
}
